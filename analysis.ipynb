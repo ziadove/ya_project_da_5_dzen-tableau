{
 "cells": [
  {
   "cell_type": "markdown",
   "id": "509c9f34",
   "metadata": {},
   "source": [
    "# Дашборд для Яндекс.Дзен"
   ]
  },
  {
   "cell_type": "markdown",
   "id": "bbdee302",
   "metadata": {},
   "source": [
    "**Цель -** анализ взаимодействия пользователей с карточками Яндекс.Дзен.\n",
    "\n",
    "\n",
    "**Ход исследования:**\n",
    "1. [Предобработка](#preprocessing);\n",
    "2. [Проведение исследовательского анализа данных](#analysis):\n",
    "- Исследование времени посещения.\n",
    "- Исследование возрастных категорий посетителей.\n",
    "- Исследование тем карточек.\n",
    "- Исследование тем источников.\n",
    "3. [Общий вывод](#conclusion); \n",
    "- [cсылка на дашборд.](#tableau);\n",
    "- [cсылка на отчет.](#report)."
   ]
  },
  {
   "cell_type": "markdown",
   "id": "524817e2",
   "metadata": {},
   "source": [
    "<a id=\"preprocessing\"> </a>\n",
    "# 1. Предобработка данных."
   ]
  },
  {
   "cell_type": "code",
   "execution_count": 177,
   "id": "cd4c04b2",
   "metadata": {},
   "outputs": [],
   "source": [
    "# Импорт библиотек\n",
    "\n",
    "import pandas as pd\n",
    "\n",
    "import seaborn as sns"
   ]
  },
  {
   "cell_type": "code",
   "execution_count": 16,
   "id": "f178b90b",
   "metadata": {},
   "outputs": [],
   "source": [
    "# Загрузка данных\n",
    "\n",
    "data = pd.read_csv('dash_visits.csv', index_col='Unnamed: 0')"
   ]
  },
  {
   "cell_type": "code",
   "execution_count": 18,
   "id": "8cdecf78",
   "metadata": {},
   "outputs": [
    {
     "name": "stdout",
     "output_type": "stream",
     "text": [
      "<class 'pandas.core.frame.DataFrame'>\n",
      "Int64Index: 30745 entries, 0 to 30744\n",
      "Data columns (total 6 columns):\n",
      " #   Column        Non-Null Count  Dtype \n",
      "---  ------        --------------  ----- \n",
      " 0   record_id     30745 non-null  int64 \n",
      " 1   item_topic    30745 non-null  object\n",
      " 2   source_topic  30745 non-null  object\n",
      " 3   age_segment   30745 non-null  object\n",
      " 4   dt            30745 non-null  object\n",
      " 5   visits        30745 non-null  int64 \n",
      "dtypes: int64(2), object(4)\n",
      "memory usage: 1.6+ MB\n"
     ]
    }
   ],
   "source": [
    "# Загрузка общей информации\n",
    "\n",
    "data.info()"
   ]
  },
  {
   "cell_type": "code",
   "execution_count": 20,
   "id": "4d587437",
   "metadata": {},
   "outputs": [
    {
     "data": {
      "text/html": [
       "<div>\n",
       "<style scoped>\n",
       "    .dataframe tbody tr th:only-of-type {\n",
       "        vertical-align: middle;\n",
       "    }\n",
       "\n",
       "    .dataframe tbody tr th {\n",
       "        vertical-align: top;\n",
       "    }\n",
       "\n",
       "    .dataframe thead th {\n",
       "        text-align: right;\n",
       "    }\n",
       "</style>\n",
       "<table border=\"1\" class=\"dataframe\">\n",
       "  <thead>\n",
       "    <tr style=\"text-align: right;\">\n",
       "      <th></th>\n",
       "      <th>record_id</th>\n",
       "      <th>item_topic</th>\n",
       "      <th>source_topic</th>\n",
       "      <th>age_segment</th>\n",
       "      <th>dt</th>\n",
       "      <th>visits</th>\n",
       "    </tr>\n",
       "  </thead>\n",
       "  <tbody>\n",
       "    <tr>\n",
       "      <th>0</th>\n",
       "      <td>1040597</td>\n",
       "      <td>Деньги</td>\n",
       "      <td>Авто</td>\n",
       "      <td>18-25</td>\n",
       "      <td>2019-09-24 18:32:00</td>\n",
       "      <td>3</td>\n",
       "    </tr>\n",
       "    <tr>\n",
       "      <th>1</th>\n",
       "      <td>1040598</td>\n",
       "      <td>Деньги</td>\n",
       "      <td>Авто</td>\n",
       "      <td>18-25</td>\n",
       "      <td>2019-09-24 18:35:00</td>\n",
       "      <td>1</td>\n",
       "    </tr>\n",
       "    <tr>\n",
       "      <th>2</th>\n",
       "      <td>1040599</td>\n",
       "      <td>Деньги</td>\n",
       "      <td>Авто</td>\n",
       "      <td>18-25</td>\n",
       "      <td>2019-09-24 18:54:00</td>\n",
       "      <td>4</td>\n",
       "    </tr>\n",
       "    <tr>\n",
       "      <th>3</th>\n",
       "      <td>1040600</td>\n",
       "      <td>Деньги</td>\n",
       "      <td>Авто</td>\n",
       "      <td>18-25</td>\n",
       "      <td>2019-09-24 18:55:00</td>\n",
       "      <td>17</td>\n",
       "    </tr>\n",
       "    <tr>\n",
       "      <th>4</th>\n",
       "      <td>1040601</td>\n",
       "      <td>Деньги</td>\n",
       "      <td>Авто</td>\n",
       "      <td>18-25</td>\n",
       "      <td>2019-09-24 18:56:00</td>\n",
       "      <td>27</td>\n",
       "    </tr>\n",
       "    <tr>\n",
       "      <th>5</th>\n",
       "      <td>1040602</td>\n",
       "      <td>Деньги</td>\n",
       "      <td>Авто</td>\n",
       "      <td>18-25</td>\n",
       "      <td>2019-09-24 18:57:00</td>\n",
       "      <td>22</td>\n",
       "    </tr>\n",
       "    <tr>\n",
       "      <th>6</th>\n",
       "      <td>1040603</td>\n",
       "      <td>Деньги</td>\n",
       "      <td>Авто</td>\n",
       "      <td>18-25</td>\n",
       "      <td>2019-09-24 18:58:00</td>\n",
       "      <td>24</td>\n",
       "    </tr>\n",
       "    <tr>\n",
       "      <th>7</th>\n",
       "      <td>1040604</td>\n",
       "      <td>Деньги</td>\n",
       "      <td>Авто</td>\n",
       "      <td>18-25</td>\n",
       "      <td>2019-09-24 18:59:00</td>\n",
       "      <td>20</td>\n",
       "    </tr>\n",
       "    <tr>\n",
       "      <th>8</th>\n",
       "      <td>1040605</td>\n",
       "      <td>Деньги</td>\n",
       "      <td>Авто</td>\n",
       "      <td>18-25</td>\n",
       "      <td>2019-09-24 19:00:00</td>\n",
       "      <td>5</td>\n",
       "    </tr>\n",
       "    <tr>\n",
       "      <th>9</th>\n",
       "      <td>1040606</td>\n",
       "      <td>Деньги</td>\n",
       "      <td>Авто</td>\n",
       "      <td>26-30</td>\n",
       "      <td>2019-09-24 18:29:00</td>\n",
       "      <td>1</td>\n",
       "    </tr>\n",
       "  </tbody>\n",
       "</table>\n",
       "</div>"
      ],
      "text/plain": [
       "   record_id item_topic source_topic age_segment                   dt  visits\n",
       "0    1040597     Деньги         Авто       18-25  2019-09-24 18:32:00       3\n",
       "1    1040598     Деньги         Авто       18-25  2019-09-24 18:35:00       1\n",
       "2    1040599     Деньги         Авто       18-25  2019-09-24 18:54:00       4\n",
       "3    1040600     Деньги         Авто       18-25  2019-09-24 18:55:00      17\n",
       "4    1040601     Деньги         Авто       18-25  2019-09-24 18:56:00      27\n",
       "5    1040602     Деньги         Авто       18-25  2019-09-24 18:57:00      22\n",
       "6    1040603     Деньги         Авто       18-25  2019-09-24 18:58:00      24\n",
       "7    1040604     Деньги         Авто       18-25  2019-09-24 18:59:00      20\n",
       "8    1040605     Деньги         Авто       18-25  2019-09-24 19:00:00       5\n",
       "9    1040606     Деньги         Авто       26-30  2019-09-24 18:29:00       1"
      ]
     },
     "execution_count": 20,
     "metadata": {},
     "output_type": "execute_result"
    }
   ],
   "source": [
    "data.head(10)"
   ]
  },
  {
   "cell_type": "code",
   "execution_count": 29,
   "id": "10f57514",
   "metadata": {},
   "outputs": [
    {
     "name": "stdout",
     "output_type": "stream",
     "text": [
      "0\n"
     ]
    }
   ],
   "source": [
    "# Подсчет и удаление явных дубликатов\n",
    "\n",
    "print(data.duplicated().sum())\n",
    "data = data.drop_duplicates()"
   ]
  },
  {
   "cell_type": "markdown",
   "id": "938f7fa3",
   "metadata": {},
   "source": [
    "В имеющимся датасете 6 столбцов и 30745 строк. Пропущенных значений нет, явных дубликатов - нет."
   ]
  },
  {
   "cell_type": "markdown",
   "id": "8956a707",
   "metadata": {},
   "source": [
    "<a id=\"analysis\"> </a>\n",
    "# 2. Проведение исследовательского анализа данных"
   ]
  },
  {
   "cell_type": "markdown",
   "id": "87ec0d14",
   "metadata": {},
   "source": [
    "## 2.1. Исследование времени посещения."
   ]
  },
  {
   "cell_type": "code",
   "execution_count": 116,
   "id": "6a5369d9",
   "metadata": {},
   "outputs": [
    {
     "data": {
      "text/plain": [
       "2019-09-24 18:28:00     615\n",
       "2019-09-24 18:29:00    1031\n",
       "2019-09-24 18:30:00    1261\n",
       "2019-09-24 18:31:00    1253\n",
       "2019-09-24 18:32:00    1257\n",
       "2019-09-24 18:33:00    1007\n",
       "2019-09-24 18:34:00     576\n",
       "2019-09-24 18:35:00     184\n",
       "2019-09-24 18:52:00     719\n",
       "2019-09-24 18:53:00    1107\n",
       "2019-09-24 18:54:00    2551\n",
       "2019-09-24 18:55:00    3088\n",
       "2019-09-24 18:56:00    3325\n",
       "2019-09-24 18:57:00    3342\n",
       "2019-09-24 18:58:00    3383\n",
       "2019-09-24 18:59:00    3317\n",
       "2019-09-24 19:00:00    2729\n",
       "Name: dt, dtype: int64"
      ]
     },
     "execution_count": 116,
     "metadata": {},
     "output_type": "execute_result"
    }
   ],
   "source": [
    "# Проверка значений столбца 'dt'\n",
    "\n",
    "date_record = data['dt'].value_counts().sort_index(ascending=True)\n",
    "date_record"
   ]
  },
  {
   "cell_type": "markdown",
   "id": "e2f75ad5",
   "metadata": {},
   "source": [
    "Имеющийся датасет охватывает промежуток времени с 18.28 до 19.00 24 сентября 2019 г."
   ]
  },
  {
   "cell_type": "code",
   "execution_count": 117,
   "id": "53e2b491",
   "metadata": {},
   "outputs": [
    {
     "data": {
      "image/png": "[encoded data removed]",
      "text/plain": [
       "<Figure size 864x360 with 1 Axes>"
      ]
     },
     "metadata": {
      "needs_background": "light"
     },
     "output_type": "display_data"
    }
   ],
   "source": [
    "date_record.plot.bar(figsize=(12,5));"
   ]
  },
  {
   "cell_type": "markdown",
   "id": "84e25b3b",
   "metadata": {},
   "source": [
    "Мы наблюдаем взрывной рост количества записей в 18.54 и спад после 18.59."
   ]
  },
  {
   "cell_type": "code",
   "execution_count": 140,
   "id": "f950bfb3",
   "metadata": {},
   "outputs": [
    {
     "data": {
      "text/html": [
       "<div>\n",
       "<style scoped>\n",
       "    .dataframe tbody tr th:only-of-type {\n",
       "        vertical-align: middle;\n",
       "    }\n",
       "\n",
       "    .dataframe tbody tr th {\n",
       "        vertical-align: top;\n",
       "    }\n",
       "\n",
       "    .dataframe thead th {\n",
       "        text-align: right;\n",
       "    }\n",
       "</style>\n",
       "<table border=\"1\" class=\"dataframe\">\n",
       "  <thead>\n",
       "    <tr style=\"text-align: right;\">\n",
       "      <th>age_segment</th>\n",
       "      <th>18-25</th>\n",
       "      <th>26-30</th>\n",
       "      <th>31-35</th>\n",
       "      <th>36-40</th>\n",
       "      <th>41-45</th>\n",
       "      <th>45+</th>\n",
       "    </tr>\n",
       "    <tr>\n",
       "      <th>dt</th>\n",
       "      <th></th>\n",
       "      <th></th>\n",
       "      <th></th>\n",
       "      <th></th>\n",
       "      <th></th>\n",
       "      <th></th>\n",
       "    </tr>\n",
       "  </thead>\n",
       "  <tbody>\n",
       "    <tr>\n",
       "      <th>2019-09-24 18:28:00</th>\n",
       "      <td>218</td>\n",
       "      <td>138</td>\n",
       "      <td>114</td>\n",
       "      <td>79</td>\n",
       "      <td>38</td>\n",
       "      <td>28</td>\n",
       "    </tr>\n",
       "    <tr>\n",
       "      <th>2019-09-24 18:29:00</th>\n",
       "      <td>312</td>\n",
       "      <td>224</td>\n",
       "      <td>190</td>\n",
       "      <td>162</td>\n",
       "      <td>92</td>\n",
       "      <td>51</td>\n",
       "    </tr>\n",
       "    <tr>\n",
       "      <th>2019-09-24 18:30:00</th>\n",
       "      <td>390</td>\n",
       "      <td>248</td>\n",
       "      <td>244</td>\n",
       "      <td>200</td>\n",
       "      <td>107</td>\n",
       "      <td>72</td>\n",
       "    </tr>\n",
       "    <tr>\n",
       "      <th>2019-09-24 18:31:00</th>\n",
       "      <td>384</td>\n",
       "      <td>257</td>\n",
       "      <td>238</td>\n",
       "      <td>191</td>\n",
       "      <td>112</td>\n",
       "      <td>71</td>\n",
       "    </tr>\n",
       "    <tr>\n",
       "      <th>2019-09-24 18:32:00</th>\n",
       "      <td>371</td>\n",
       "      <td>281</td>\n",
       "      <td>222</td>\n",
       "      <td>199</td>\n",
       "      <td>127</td>\n",
       "      <td>57</td>\n",
       "    </tr>\n",
       "    <tr>\n",
       "      <th>2019-09-24 18:33:00</th>\n",
       "      <td>314</td>\n",
       "      <td>198</td>\n",
       "      <td>189</td>\n",
       "      <td>167</td>\n",
       "      <td>86</td>\n",
       "      <td>53</td>\n",
       "    </tr>\n",
       "    <tr>\n",
       "      <th>2019-09-24 18:34:00</th>\n",
       "      <td>203</td>\n",
       "      <td>137</td>\n",
       "      <td>100</td>\n",
       "      <td>71</td>\n",
       "      <td>42</td>\n",
       "      <td>23</td>\n",
       "    </tr>\n",
       "    <tr>\n",
       "      <th>2019-09-24 18:35:00</th>\n",
       "      <td>75</td>\n",
       "      <td>34</td>\n",
       "      <td>28</td>\n",
       "      <td>28</td>\n",
       "      <td>11</td>\n",
       "      <td>8</td>\n",
       "    </tr>\n",
       "    <tr>\n",
       "      <th>2019-09-24 18:52:00</th>\n",
       "      <td>254</td>\n",
       "      <td>153</td>\n",
       "      <td>129</td>\n",
       "      <td>97</td>\n",
       "      <td>51</td>\n",
       "      <td>35</td>\n",
       "    </tr>\n",
       "    <tr>\n",
       "      <th>2019-09-24 18:53:00</th>\n",
       "      <td>339</td>\n",
       "      <td>226</td>\n",
       "      <td>215</td>\n",
       "      <td>166</td>\n",
       "      <td>96</td>\n",
       "      <td>65</td>\n",
       "    </tr>\n",
       "    <tr>\n",
       "      <th>2019-09-24 18:54:00</th>\n",
       "      <td>562</td>\n",
       "      <td>492</td>\n",
       "      <td>468</td>\n",
       "      <td>449</td>\n",
       "      <td>316</td>\n",
       "      <td>264</td>\n",
       "    </tr>\n",
       "    <tr>\n",
       "      <th>2019-09-24 18:55:00</th>\n",
       "      <td>595</td>\n",
       "      <td>563</td>\n",
       "      <td>564</td>\n",
       "      <td>532</td>\n",
       "      <td>444</td>\n",
       "      <td>390</td>\n",
       "    </tr>\n",
       "    <tr>\n",
       "      <th>2019-09-24 18:56:00</th>\n",
       "      <td>614</td>\n",
       "      <td>603</td>\n",
       "      <td>583</td>\n",
       "      <td>571</td>\n",
       "      <td>494</td>\n",
       "      <td>460</td>\n",
       "    </tr>\n",
       "    <tr>\n",
       "      <th>2019-09-24 18:57:00</th>\n",
       "      <td>619</td>\n",
       "      <td>598</td>\n",
       "      <td>589</td>\n",
       "      <td>571</td>\n",
       "      <td>506</td>\n",
       "      <td>459</td>\n",
       "    </tr>\n",
       "    <tr>\n",
       "      <th>2019-09-24 18:58:00</th>\n",
       "      <td>617</td>\n",
       "      <td>598</td>\n",
       "      <td>596</td>\n",
       "      <td>580</td>\n",
       "      <td>515</td>\n",
       "      <td>477</td>\n",
       "    </tr>\n",
       "    <tr>\n",
       "      <th>2019-09-24 18:59:00</th>\n",
       "      <td>621</td>\n",
       "      <td>589</td>\n",
       "      <td>583</td>\n",
       "      <td>568</td>\n",
       "      <td>500</td>\n",
       "      <td>456</td>\n",
       "    </tr>\n",
       "    <tr>\n",
       "      <th>2019-09-24 19:00:00</th>\n",
       "      <td>568</td>\n",
       "      <td>536</td>\n",
       "      <td>500</td>\n",
       "      <td>474</td>\n",
       "      <td>366</td>\n",
       "      <td>285</td>\n",
       "    </tr>\n",
       "  </tbody>\n",
       "</table>\n",
       "</div>"
      ],
      "text/plain": [
       "age_segment          18-25  26-30  31-35  36-40  41-45  45+\n",
       "dt                                                         \n",
       "2019-09-24 18:28:00    218    138    114     79     38   28\n",
       "2019-09-24 18:29:00    312    224    190    162     92   51\n",
       "2019-09-24 18:30:00    390    248    244    200    107   72\n",
       "2019-09-24 18:31:00    384    257    238    191    112   71\n",
       "2019-09-24 18:32:00    371    281    222    199    127   57\n",
       "2019-09-24 18:33:00    314    198    189    167     86   53\n",
       "2019-09-24 18:34:00    203    137    100     71     42   23\n",
       "2019-09-24 18:35:00     75     34     28     28     11    8\n",
       "2019-09-24 18:52:00    254    153    129     97     51   35\n",
       "2019-09-24 18:53:00    339    226    215    166     96   65\n",
       "2019-09-24 18:54:00    562    492    468    449    316  264\n",
       "2019-09-24 18:55:00    595    563    564    532    444  390\n",
       "2019-09-24 18:56:00    614    603    583    571    494  460\n",
       "2019-09-24 18:57:00    619    598    589    571    506  459\n",
       "2019-09-24 18:58:00    617    598    596    580    515  477\n",
       "2019-09-24 18:59:00    621    589    583    568    500  456\n",
       "2019-09-24 19:00:00    568    536    500    474    366  285"
      ]
     },
     "execution_count": 140,
     "metadata": {},
     "output_type": "execute_result"
    }
   ],
   "source": [
    "pd.crosstab(data['dt'], data['age_segment'], margins=False).sort_values(by='dt', ascending=True)"
   ]
  },
  {
   "cell_type": "markdown",
   "id": "39a87506",
   "metadata": {},
   "source": [
    "Выполнив группировку записей по возрастным категориям, мы видим что рост и падение значений начинаются во всех возрастных группах примерно одновременно."
   ]
  },
  {
   "cell_type": "code",
   "execution_count": 137,
   "id": "035f1ac8",
   "metadata": {},
   "outputs": [
    {
     "data": {
      "image/png": "[encoded data removed]",
      "text/plain": [
       "<Figure size 864x360 with 1 Axes>"
      ]
     },
     "metadata": {
      "needs_background": "light"
     },
     "output_type": "display_data"
    }
   ],
   "source": [
    "data.groupby('dt')['visits'].sum().sort_index(ascending=True).plot.bar(figsize=(12,5));"
   ]
  },
  {
   "cell_type": "markdown",
   "id": "1a08f795",
   "metadata": {},
   "source": [
    "Количество просмотров растет с 18.54 до 18.59."
   ]
  },
  {
   "cell_type": "markdown",
   "id": "ae020f68",
   "metadata": {},
   "source": [
    "## 2.2. Исследование возрастных категорий."
   ]
  },
  {
   "cell_type": "code",
   "execution_count": 118,
   "id": "ab8e55ae",
   "metadata": {},
   "outputs": [
    {
     "data": {
      "text/plain": [
       "age_segment\n",
       "18-25    7056\n",
       "26-30    5875\n",
       "31-35    5552\n",
       "36-40    5105\n",
       "41-45    3903\n",
       "45+      3254\n",
       "Name: age_segment, dtype: int64"
      ]
     },
     "execution_count": 118,
     "metadata": {},
     "output_type": "execute_result"
    }
   ],
   "source": [
    "groupby_age_segment = data.groupby('age_segment')['age_segment'].count()\n",
    "groupby_age_segment"
   ]
  },
  {
   "cell_type": "code",
   "execution_count": 120,
   "id": "cd74dbf6",
   "metadata": {},
   "outputs": [
    {
     "data": {
      "image/png": "[encoded data removed]",
      "text/plain": [
       "<Figure size 648x648 with 1 Axes>"
      ]
     },
     "metadata": {},
     "output_type": "display_data"
    }
   ],
   "source": [
    "color = sns.color_palette(\"Paired\")\n",
    "plt.figure(figsize=(9,9))\n",
    "plt.title('Соотношение пользователей по возрастным категориям.', fontsize=15)\n",
    "plt.pie(groupby_age_segment, labels = groupby_age_segment.index, autopct='%1.2f%%', colors=color, textprops={'fontsize': 13})\n",
    "\n",
    "plt.show()"
   ]
  },
  {
   "cell_type": "markdown",
   "id": "eb392f82",
   "metadata": {},
   "source": [
    "Самая многочисленная группа пользователь в возрастной категории \"18-25\". Меньше всего пользователей в категории \"45+\"."
   ]
  },
  {
   "cell_type": "markdown",
   "id": "5cab2f34",
   "metadata": {},
   "source": [
    "## 2.3. Исследование тем карточек."
   ]
  },
  {
   "cell_type": "markdown",
   "id": "2f2fd7ec",
   "metadata": {},
   "source": [
    "## Топ-5 тем карточек по количеству опубликованных записей."
   ]
  },
  {
   "cell_type": "code",
   "execution_count": 157,
   "id": "0593d2cb",
   "metadata": {},
   "outputs": [
    {
     "data": {
      "text/plain": [
       "Отношения             1536\n",
       "Интересные факты      1535\n",
       "Наука                 1505\n",
       "Подборки              1456\n",
       "Полезные советы       1424\n",
       "Общество              1422\n",
       "Россия                1385\n",
       "История               1363\n",
       "Семья                 1287\n",
       "Путешествия           1247\n",
       "Деньги                1234\n",
       "Женщины               1230\n",
       "Дети                  1229\n",
       "Туризм                1206\n",
       "Здоровье              1203\n",
       "Красота               1193\n",
       "Культура              1160\n",
       "Юмор                  1129\n",
       "Искусство             1119\n",
       "Рассказы              1109\n",
       "Психология            1056\n",
       "Скандалы              1023\n",
       "Знаменитости           976\n",
       "Женская психология     914\n",
       "Шоу                    804\n",
       "Name: item_topic, dtype: int64"
      ]
     },
     "execution_count": 157,
     "metadata": {},
     "output_type": "execute_result"
    }
   ],
   "source": [
    "# Проверка значений столбца 'item_topic'\n",
    "\n",
    "data['item_topic'].value_counts()"
   ]
  },
  {
   "cell_type": "markdown",
   "id": "94f04a30",
   "metadata": {},
   "source": [
    "25 тем карточек. Самые популярные без разбивки на возрастной диапазон - \"Отношения\", \"Интересные факты\", \"Наука\""
   ]
  },
  {
   "cell_type": "code",
   "execution_count": 66,
   "id": "7f632a84",
   "metadata": {},
   "outputs": [],
   "source": [
    "# Создадим кросс-таблицу для оценки количества карточек с разными темами (с разбивкой по возрасту)\n",
    "\n",
    "item_topic_age_segment = pd.crosstab(data['item_topic'], data['age_segment'], margins=False)\n",
    "item_topic_age_segment "
   ]
  },
  {
   "cell_type": "code",
   "execution_count": 60,
   "id": "f77be49a",
   "metadata": {},
   "outputs": [
    {
     "data": {
      "text/plain": [
       "item_topic\n",
       "Отношения           336\n",
       "Интересные факты    332\n",
       "Наука               328\n",
       "Общество            326\n",
       "Подборки            320\n",
       "Name: 18-25, dtype: int64"
      ]
     },
     "execution_count": 60,
     "metadata": {},
     "output_type": "execute_result"
    }
   ],
   "source": [
    "# Топ-5 тем карточек по количеству опубликованных записей (категория \"18-25\")\n",
    "\n",
    "item_topic_age_segment['18-25'].sort_values(ascending=False).head(5)"
   ]
  },
  {
   "cell_type": "code",
   "execution_count": 61,
   "id": "387f7b3e",
   "metadata": {},
   "outputs": [
    {
     "data": {
      "text/plain": [
       "item_topic\n",
       "Отношения           294\n",
       "Интересные факты    292\n",
       "Наука               286\n",
       "Подборки            279\n",
       "Общество            272\n",
       "Name: 26-30, dtype: int64"
      ]
     },
     "execution_count": 61,
     "metadata": {},
     "output_type": "execute_result"
    }
   ],
   "source": [
    "# Топ-5 тем карточек по количеству опубликованных записей (категория \"26-30\")\n",
    "\n",
    "item_topic_age_segment['26-30'].sort_values(ascending=False).head(5)"
   ]
  },
  {
   "cell_type": "code",
   "execution_count": 62,
   "id": "db18f373",
   "metadata": {},
   "outputs": [
    {
     "data": {
      "text/plain": [
       "item_topic\n",
       "Наука               274\n",
       "Интересные факты    272\n",
       "Отношения           272\n",
       "Подборки            260\n",
       "Общество            251\n",
       "Name: 31-35, dtype: int64"
      ]
     },
     "execution_count": 62,
     "metadata": {},
     "output_type": "execute_result"
    }
   ],
   "source": [
    "# Топ-5 тем карточек по количеству опубликованных записей (категория \"31-35\")\n",
    "\n",
    "item_topic_age_segment['31-35'].sort_values(ascending=False).head(5)"
   ]
  },
  {
   "cell_type": "code",
   "execution_count": 63,
   "id": "55fb3120",
   "metadata": {},
   "outputs": [
    {
     "data": {
      "text/plain": [
       "item_topic\n",
       "Интересные факты    255\n",
       "Наука               248\n",
       "Полезные советы     246\n",
       "Подборки            243\n",
       "Отношения           243\n",
       "Name: 36-40, dtype: int64"
      ]
     },
     "execution_count": 63,
     "metadata": {},
     "output_type": "execute_result"
    }
   ],
   "source": [
    "# Топ-5 тем карточек по количеству опубликованных записей (категория \"36-40\")\n",
    "\n",
    "item_topic_age_segment['36-40'].sort_values(ascending=False).head(5)"
   ]
  },
  {
   "cell_type": "code",
   "execution_count": 64,
   "id": "245955b6",
   "metadata": {},
   "outputs": [
    {
     "data": {
      "text/plain": [
       "item_topic\n",
       "Отношения           210\n",
       "Подборки            203\n",
       "Наука               200\n",
       "Интересные факты    196\n",
       "Общество            192\n",
       "Name: 41-45, dtype: int64"
      ]
     },
     "execution_count": 64,
     "metadata": {},
     "output_type": "execute_result"
    }
   ],
   "source": [
    "# Топ-5 тем карточек по количеству опубликованных записей (категория \"41-45\")\n",
    "\n",
    "item_topic_age_segment['41-45'].sort_values(ascending=False).head(5)"
   ]
  },
  {
   "cell_type": "code",
   "execution_count": 65,
   "id": "c748b9b3",
   "metadata": {},
   "outputs": [
    {
     "data": {
      "text/plain": [
       "item_topic\n",
       "Интересные факты    188\n",
       "Отношения           181\n",
       "Наука               169\n",
       "Россия              153\n",
       "Общество            152\n",
       "Name: 45+, dtype: int64"
      ]
     },
     "execution_count": 65,
     "metadata": {},
     "output_type": "execute_result"
    }
   ],
   "source": [
    "# Топ-5 тем карточек по количеству опубликованных записей (категория \"45+\")\n",
    "\n",
    "item_topic_age_segment['45+'].sort_values(ascending=False).head(5)"
   ]
  },
  {
   "cell_type": "markdown",
   "id": "7952f78f",
   "metadata": {},
   "source": [
    "## Топ-5 тем карточек по количеству просмотров."
   ]
  },
  {
   "cell_type": "code",
   "execution_count": 179,
   "id": "43dd3b4f",
   "metadata": {},
   "outputs": [
    {
     "data": {
      "text/plain": [
       "item_topic\n",
       "Наука                 21736\n",
       "Отношения             20666\n",
       "Интересные факты      19942\n",
       "Общество              19640\n",
       "Подборки              17772\n",
       "Россия                16966\n",
       "Полезные советы       15435\n",
       "История               15389\n",
       "Семья                 11897\n",
       "Женщины               11499\n",
       "Дети                  10989\n",
       "Рассказы              10909\n",
       "Здоровье              10399\n",
       "Деньги                10291\n",
       "Культура              10205\n",
       "Красота                9814\n",
       "Туризм                 9512\n",
       "Юмор                   9398\n",
       "Скандалы               9294\n",
       "Путешествия            9260\n",
       "Искусство              8516\n",
       "Психология             8036\n",
       "Женская психология     7737\n",
       "Шоу                    7511\n",
       "Знаменитости           7394\n",
       "Name: visits, dtype: int64"
      ]
     },
     "execution_count": 179,
     "metadata": {},
     "output_type": "execute_result"
    }
   ],
   "source": [
    "# Узнаем количество просмотров по темам карточек (без учета возрастных категорий)\n",
    "\n",
    "data.groupby('item_topic')['visits'].sum().sort_values(ascending=False)"
   ]
  },
  {
   "cell_type": "code",
   "execution_count": 178,
   "id": "e9ca7cdb",
   "metadata": {},
   "outputs": [
    {
     "data": {
      "text/html": [
       "<div>\n",
       "<style scoped>\n",
       "    .dataframe tbody tr th:only-of-type {\n",
       "        vertical-align: middle;\n",
       "    }\n",
       "\n",
       "    .dataframe tbody tr th {\n",
       "        vertical-align: top;\n",
       "    }\n",
       "\n",
       "    .dataframe thead th {\n",
       "        text-align: right;\n",
       "    }\n",
       "</style>\n",
       "<table border=\"1\" class=\"dataframe\">\n",
       "  <thead>\n",
       "    <tr style=\"text-align: right;\">\n",
       "      <th>age_segment</th>\n",
       "      <th>18-25</th>\n",
       "      <th>26-30</th>\n",
       "      <th>31-35</th>\n",
       "      <th>36-40</th>\n",
       "      <th>41-45</th>\n",
       "      <th>45+</th>\n",
       "    </tr>\n",
       "    <tr>\n",
       "      <th>item_topic</th>\n",
       "      <th></th>\n",
       "      <th></th>\n",
       "      <th></th>\n",
       "      <th></th>\n",
       "      <th></th>\n",
       "      <th></th>\n",
       "    </tr>\n",
       "  </thead>\n",
       "  <tbody>\n",
       "    <tr>\n",
       "      <th>Деньги</th>\n",
       "      <td>4472</td>\n",
       "      <td>1950</td>\n",
       "      <td>1686</td>\n",
       "      <td>1302</td>\n",
       "      <td>502</td>\n",
       "      <td>379</td>\n",
       "    </tr>\n",
       "    <tr>\n",
       "      <th>Дети</th>\n",
       "      <td>5106</td>\n",
       "      <td>2006</td>\n",
       "      <td>1672</td>\n",
       "      <td>1260</td>\n",
       "      <td>585</td>\n",
       "      <td>360</td>\n",
       "    </tr>\n",
       "    <tr>\n",
       "      <th>Женская психология</th>\n",
       "      <td>3277</td>\n",
       "      <td>1501</td>\n",
       "      <td>1365</td>\n",
       "      <td>961</td>\n",
       "      <td>397</td>\n",
       "      <td>236</td>\n",
       "    </tr>\n",
       "    <tr>\n",
       "      <th>Женщины</th>\n",
       "      <td>4619</td>\n",
       "      <td>2258</td>\n",
       "      <td>2112</td>\n",
       "      <td>1488</td>\n",
       "      <td>620</td>\n",
       "      <td>402</td>\n",
       "    </tr>\n",
       "    <tr>\n",
       "      <th>Здоровье</th>\n",
       "      <td>4573</td>\n",
       "      <td>1941</td>\n",
       "      <td>1730</td>\n",
       "      <td>1250</td>\n",
       "      <td>505</td>\n",
       "      <td>400</td>\n",
       "    </tr>\n",
       "    <tr>\n",
       "      <th>Знаменитости</th>\n",
       "      <td>2960</td>\n",
       "      <td>1430</td>\n",
       "      <td>1345</td>\n",
       "      <td>980</td>\n",
       "      <td>420</td>\n",
       "      <td>259</td>\n",
       "    </tr>\n",
       "    <tr>\n",
       "      <th>Интересные факты</th>\n",
       "      <td>8270</td>\n",
       "      <td>3958</td>\n",
       "      <td>3509</td>\n",
       "      <td>2442</td>\n",
       "      <td>1025</td>\n",
       "      <td>738</td>\n",
       "    </tr>\n",
       "    <tr>\n",
       "      <th>Искусство</th>\n",
       "      <td>3261</td>\n",
       "      <td>1747</td>\n",
       "      <td>1549</td>\n",
       "      <td>1133</td>\n",
       "      <td>516</td>\n",
       "      <td>310</td>\n",
       "    </tr>\n",
       "    <tr>\n",
       "      <th>История</th>\n",
       "      <td>6522</td>\n",
       "      <td>3093</td>\n",
       "      <td>2561</td>\n",
       "      <td>1848</td>\n",
       "      <td>841</td>\n",
       "      <td>524</td>\n",
       "    </tr>\n",
       "    <tr>\n",
       "      <th>Красота</th>\n",
       "      <td>4266</td>\n",
       "      <td>1723</td>\n",
       "      <td>1730</td>\n",
       "      <td>1243</td>\n",
       "      <td>495</td>\n",
       "      <td>357</td>\n",
       "    </tr>\n",
       "    <tr>\n",
       "      <th>Культура</th>\n",
       "      <td>4005</td>\n",
       "      <td>2013</td>\n",
       "      <td>1850</td>\n",
       "      <td>1409</td>\n",
       "      <td>607</td>\n",
       "      <td>321</td>\n",
       "    </tr>\n",
       "    <tr>\n",
       "      <th>Наука</th>\n",
       "      <td>8897</td>\n",
       "      <td>4447</td>\n",
       "      <td>3878</td>\n",
       "      <td>2565</td>\n",
       "      <td>1187</td>\n",
       "      <td>762</td>\n",
       "    </tr>\n",
       "    <tr>\n",
       "      <th>Общество</th>\n",
       "      <td>8550</td>\n",
       "      <td>3849</td>\n",
       "      <td>3349</td>\n",
       "      <td>2213</td>\n",
       "      <td>984</td>\n",
       "      <td>695</td>\n",
       "    </tr>\n",
       "    <tr>\n",
       "      <th>Отношения</th>\n",
       "      <td>9631</td>\n",
       "      <td>3785</td>\n",
       "      <td>3189</td>\n",
       "      <td>2336</td>\n",
       "      <td>1051</td>\n",
       "      <td>674</td>\n",
       "    </tr>\n",
       "    <tr>\n",
       "      <th>Подборки</th>\n",
       "      <td>7071</td>\n",
       "      <td>3526</td>\n",
       "      <td>3217</td>\n",
       "      <td>2380</td>\n",
       "      <td>974</td>\n",
       "      <td>604</td>\n",
       "    </tr>\n",
       "    <tr>\n",
       "      <th>Полезные советы</th>\n",
       "      <td>6510</td>\n",
       "      <td>3067</td>\n",
       "      <td>2654</td>\n",
       "      <td>1904</td>\n",
       "      <td>787</td>\n",
       "      <td>513</td>\n",
       "    </tr>\n",
       "    <tr>\n",
       "      <th>Психология</th>\n",
       "      <td>3431</td>\n",
       "      <td>1497</td>\n",
       "      <td>1431</td>\n",
       "      <td>972</td>\n",
       "      <td>436</td>\n",
       "      <td>269</td>\n",
       "    </tr>\n",
       "    <tr>\n",
       "      <th>Путешествия</th>\n",
       "      <td>3815</td>\n",
       "      <td>1895</td>\n",
       "      <td>1637</td>\n",
       "      <td>1081</td>\n",
       "      <td>503</td>\n",
       "      <td>329</td>\n",
       "    </tr>\n",
       "    <tr>\n",
       "      <th>Рассказы</th>\n",
       "      <td>4503</td>\n",
       "      <td>2177</td>\n",
       "      <td>1931</td>\n",
       "      <td>1353</td>\n",
       "      <td>567</td>\n",
       "      <td>378</td>\n",
       "    </tr>\n",
       "    <tr>\n",
       "      <th>Россия</th>\n",
       "      <td>7235</td>\n",
       "      <td>3514</td>\n",
       "      <td>2963</td>\n",
       "      <td>1912</td>\n",
       "      <td>784</td>\n",
       "      <td>558</td>\n",
       "    </tr>\n",
       "    <tr>\n",
       "      <th>Семья</th>\n",
       "      <td>5489</td>\n",
       "      <td>2119</td>\n",
       "      <td>1888</td>\n",
       "      <td>1388</td>\n",
       "      <td>589</td>\n",
       "      <td>424</td>\n",
       "    </tr>\n",
       "    <tr>\n",
       "      <th>Скандалы</th>\n",
       "      <td>3632</td>\n",
       "      <td>1718</td>\n",
       "      <td>1811</td>\n",
       "      <td>1327</td>\n",
       "      <td>482</td>\n",
       "      <td>324</td>\n",
       "    </tr>\n",
       "    <tr>\n",
       "      <th>Туризм</th>\n",
       "      <td>4149</td>\n",
       "      <td>1862</td>\n",
       "      <td>1599</td>\n",
       "      <td>1072</td>\n",
       "      <td>500</td>\n",
       "      <td>330</td>\n",
       "    </tr>\n",
       "    <tr>\n",
       "      <th>Шоу</th>\n",
       "      <td>2945</td>\n",
       "      <td>1411</td>\n",
       "      <td>1425</td>\n",
       "      <td>1108</td>\n",
       "      <td>407</td>\n",
       "      <td>215</td>\n",
       "    </tr>\n",
       "    <tr>\n",
       "      <th>Юмор</th>\n",
       "      <td>3821</td>\n",
       "      <td>1824</td>\n",
       "      <td>1682</td>\n",
       "      <td>1239</td>\n",
       "      <td>499</td>\n",
       "      <td>333</td>\n",
       "    </tr>\n",
       "  </tbody>\n",
       "</table>\n",
       "</div>"
      ],
      "text/plain": [
       "age_segment         18-25  26-30  31-35  36-40  41-45  45+\n",
       "item_topic                                                \n",
       "Деньги               4472   1950   1686   1302    502  379\n",
       "Дети                 5106   2006   1672   1260    585  360\n",
       "Женская психология   3277   1501   1365    961    397  236\n",
       "Женщины              4619   2258   2112   1488    620  402\n",
       "Здоровье             4573   1941   1730   1250    505  400\n",
       "Знаменитости         2960   1430   1345    980    420  259\n",
       "Интересные факты     8270   3958   3509   2442   1025  738\n",
       "Искусство            3261   1747   1549   1133    516  310\n",
       "История              6522   3093   2561   1848    841  524\n",
       "Красота              4266   1723   1730   1243    495  357\n",
       "Культура             4005   2013   1850   1409    607  321\n",
       "Наука                8897   4447   3878   2565   1187  762\n",
       "Общество             8550   3849   3349   2213    984  695\n",
       "Отношения            9631   3785   3189   2336   1051  674\n",
       "Подборки             7071   3526   3217   2380    974  604\n",
       "Полезные советы      6510   3067   2654   1904    787  513\n",
       "Психология           3431   1497   1431    972    436  269\n",
       "Путешествия          3815   1895   1637   1081    503  329\n",
       "Рассказы             4503   2177   1931   1353    567  378\n",
       "Россия               7235   3514   2963   1912    784  558\n",
       "Семья                5489   2119   1888   1388    589  424\n",
       "Скандалы             3632   1718   1811   1327    482  324\n",
       "Туризм               4149   1862   1599   1072    500  330\n",
       "Шоу                  2945   1411   1425   1108    407  215\n",
       "Юмор                 3821   1824   1682   1239    499  333"
      ]
     },
     "execution_count": 178,
     "metadata": {},
     "output_type": "execute_result"
    }
   ],
   "source": [
    "# Узнаем количество просмотров по темам карточек (с учетом возрастных категорий)\n",
    "\n",
    "item_topic_age_visits = pd.crosstab(data['item_topic'], data['age_segment'], values=data['visits'], \\\n",
    "                                    margins=False, aggfunc='sum')\n",
    "item_topic_age_visits"
   ]
  },
  {
   "cell_type": "code",
   "execution_count": 180,
   "id": "0d0eb2d9",
   "metadata": {},
   "outputs": [
    {
     "data": {
      "text/plain": [
       "item_topic\n",
       "Отношения           9631\n",
       "Наука               8897\n",
       "Общество            8550\n",
       "Интересные факты    8270\n",
       "Россия              7235\n",
       "Name: 18-25, dtype: int64"
      ]
     },
     "execution_count": 180,
     "metadata": {},
     "output_type": "execute_result"
    }
   ],
   "source": [
    "# Топ-5 тем карточек по количеству просмотров (категория \"18-25\")\n",
    "\n",
    "item_topic_age_visits['18-25'].sort_values(ascending=False).head(5)"
   ]
  },
  {
   "cell_type": "code",
   "execution_count": 181,
   "id": "b157a219",
   "metadata": {},
   "outputs": [
    {
     "data": {
      "text/plain": [
       "item_topic\n",
       "Наука               4447\n",
       "Интересные факты    3958\n",
       "Общество            3849\n",
       "Отношения           3785\n",
       "Подборки            3526\n",
       "Name: 26-30, dtype: int64"
      ]
     },
     "execution_count": 181,
     "metadata": {},
     "output_type": "execute_result"
    }
   ],
   "source": [
    "# Топ-5 тем карточек по количеству просмотров (категория \"26-30\")\n",
    "\n",
    "item_topic_age_visits['26-30'].sort_values(ascending=False).head(5)"
   ]
  },
  {
   "cell_type": "code",
   "execution_count": 182,
   "id": "183f33fa",
   "metadata": {},
   "outputs": [
    {
     "data": {
      "text/plain": [
       "item_topic\n",
       "Наука               3878\n",
       "Интересные факты    3509\n",
       "Общество            3349\n",
       "Подборки            3217\n",
       "Отношения           3189\n",
       "Name: 31-35, dtype: int64"
      ]
     },
     "execution_count": 182,
     "metadata": {},
     "output_type": "execute_result"
    }
   ],
   "source": [
    "# Топ-5 тем карточек по количеству просмотров (категория \"31-35\")\n",
    "\n",
    "item_topic_age_visits['31-35'].sort_values(ascending=False).head(5)"
   ]
  },
  {
   "cell_type": "code",
   "execution_count": 183,
   "id": "5880b5b7",
   "metadata": {},
   "outputs": [
    {
     "data": {
      "text/plain": [
       "item_topic\n",
       "Наука               2565\n",
       "Интересные факты    2442\n",
       "Подборки            2380\n",
       "Отношения           2336\n",
       "Общество            2213\n",
       "Name: 36-40, dtype: int64"
      ]
     },
     "execution_count": 183,
     "metadata": {},
     "output_type": "execute_result"
    }
   ],
   "source": [
    "# Топ-5 тем карточек по количеству просмотров (категория \"36-40\")\n",
    "\n",
    "item_topic_age_visits['36-40'].sort_values(ascending=False).head(5)"
   ]
  },
  {
   "cell_type": "code",
   "execution_count": 184,
   "id": "bc1a65ee",
   "metadata": {},
   "outputs": [
    {
     "data": {
      "text/plain": [
       "item_topic\n",
       "Наука               1187\n",
       "Отношения           1051\n",
       "Интересные факты    1025\n",
       "Общество             984\n",
       "Подборки             974\n",
       "Name: 41-45, dtype: int64"
      ]
     },
     "execution_count": 184,
     "metadata": {},
     "output_type": "execute_result"
    }
   ],
   "source": [
    "# Топ-5 тем карточек по количеству просмотров (категория \"41-45\")\n",
    "\n",
    "item_topic_age_visits['41-45'].sort_values(ascending=False).head(5)"
   ]
  },
  {
   "cell_type": "code",
   "execution_count": 185,
   "id": "47b1e196",
   "metadata": {},
   "outputs": [
    {
     "data": {
      "text/plain": [
       "item_topic\n",
       "Наука               762\n",
       "Интересные факты    738\n",
       "Общество            695\n",
       "Отношения           674\n",
       "Подборки            604\n",
       "Name: 45+, dtype: int64"
      ]
     },
     "execution_count": 185,
     "metadata": {},
     "output_type": "execute_result"
    }
   ],
   "source": [
    "# Топ-5 тем карточек по количеству просмотров (категория \"45+\")\n",
    "\n",
    "item_topic_age_visits['45+'].sort_values(ascending=False).head(5)"
   ]
  },
  {
   "cell_type": "markdown",
   "id": "9ab11b36",
   "metadata": {},
   "source": [
    "## 2.4. Исследование тем источников."
   ]
  },
  {
   "cell_type": "code",
   "execution_count": 23,
   "id": "afb202a0",
   "metadata": {},
   "outputs": [
    {
     "data": {
      "text/plain": [
       "Семейные отношения    1822\n",
       "Россия                1687\n",
       "Знаменитости          1650\n",
       "Полезные советы       1578\n",
       "Путешествия           1563\n",
       "Кино                  1505\n",
       "Дети                  1459\n",
       "История               1437\n",
       "Семья                 1405\n",
       "Одежда                1379\n",
       "Здоровье              1243\n",
       "Искусство             1228\n",
       "Авто                  1077\n",
       "Психология            1055\n",
       "Сад и дача            1036\n",
       "Политика              1024\n",
       "Спорт                 1007\n",
       "Сделай сам             995\n",
       "Ремонт                 985\n",
       "Деньги                 973\n",
       "Еда                    912\n",
       "Интерьеры              809\n",
       "Строительство          758\n",
       "Музыка                 750\n",
       "Технологии             741\n",
       "Финансы                667\n",
       "Name: source_topic, dtype: int64"
      ]
     },
     "execution_count": 23,
     "metadata": {},
     "output_type": "execute_result"
    }
   ],
   "source": [
    "# Подсчет значений столбца 'item_topic'\n",
    "\n",
    "data['source_topic'].value_counts()"
   ]
  },
  {
   "cell_type": "markdown",
   "id": "e79a8ad7",
   "metadata": {},
   "source": [
    "26 тем источников. Самые популярные без разбивки на возрастной диапазон - \"Семейные отношения\", \"Россия\", \"Знаменитости\"."
   ]
  },
  {
   "cell_type": "code",
   "execution_count": 171,
   "id": "71e1232f",
   "metadata": {},
   "outputs": [
    {
     "data": {
      "text/html": [
       "<div>\n",
       "<style scoped>\n",
       "    .dataframe tbody tr th:only-of-type {\n",
       "        vertical-align: middle;\n",
       "    }\n",
       "\n",
       "    .dataframe tbody tr th {\n",
       "        vertical-align: top;\n",
       "    }\n",
       "\n",
       "    .dataframe thead th {\n",
       "        text-align: right;\n",
       "    }\n",
       "</style>\n",
       "<table border=\"1\" class=\"dataframe\">\n",
       "  <thead>\n",
       "    <tr style=\"text-align: right;\">\n",
       "      <th>age_segment</th>\n",
       "      <th>18-25</th>\n",
       "      <th>26-30</th>\n",
       "      <th>31-35</th>\n",
       "      <th>36-40</th>\n",
       "      <th>41-45</th>\n",
       "      <th>45+</th>\n",
       "    </tr>\n",
       "    <tr>\n",
       "      <th>source_topic</th>\n",
       "      <th></th>\n",
       "      <th></th>\n",
       "      <th></th>\n",
       "      <th></th>\n",
       "      <th></th>\n",
       "      <th></th>\n",
       "    </tr>\n",
       "  </thead>\n",
       "  <tbody>\n",
       "    <tr>\n",
       "      <th>Авто</th>\n",
       "      <td>223</td>\n",
       "      <td>223</td>\n",
       "      <td>194</td>\n",
       "      <td>172</td>\n",
       "      <td>136</td>\n",
       "      <td>129</td>\n",
       "    </tr>\n",
       "    <tr>\n",
       "      <th>Деньги</th>\n",
       "      <td>235</td>\n",
       "      <td>185</td>\n",
       "      <td>179</td>\n",
       "      <td>157</td>\n",
       "      <td>123</td>\n",
       "      <td>94</td>\n",
       "    </tr>\n",
       "    <tr>\n",
       "      <th>Дети</th>\n",
       "      <td>317</td>\n",
       "      <td>248</td>\n",
       "      <td>279</td>\n",
       "      <td>251</td>\n",
       "      <td>197</td>\n",
       "      <td>167</td>\n",
       "    </tr>\n",
       "    <tr>\n",
       "      <th>Еда</th>\n",
       "      <td>253</td>\n",
       "      <td>174</td>\n",
       "      <td>151</td>\n",
       "      <td>148</td>\n",
       "      <td>96</td>\n",
       "      <td>90</td>\n",
       "    </tr>\n",
       "    <tr>\n",
       "      <th>Здоровье</th>\n",
       "      <td>297</td>\n",
       "      <td>230</td>\n",
       "      <td>225</td>\n",
       "      <td>208</td>\n",
       "      <td>146</td>\n",
       "      <td>137</td>\n",
       "    </tr>\n",
       "    <tr>\n",
       "      <th>Знаменитости</th>\n",
       "      <td>354</td>\n",
       "      <td>301</td>\n",
       "      <td>304</td>\n",
       "      <td>281</td>\n",
       "      <td>218</td>\n",
       "      <td>192</td>\n",
       "    </tr>\n",
       "    <tr>\n",
       "      <th>Интерьеры</th>\n",
       "      <td>217</td>\n",
       "      <td>158</td>\n",
       "      <td>146</td>\n",
       "      <td>129</td>\n",
       "      <td>77</td>\n",
       "      <td>82</td>\n",
       "    </tr>\n",
       "    <tr>\n",
       "      <th>Искусство</th>\n",
       "      <td>280</td>\n",
       "      <td>232</td>\n",
       "      <td>224</td>\n",
       "      <td>197</td>\n",
       "      <td>161</td>\n",
       "      <td>134</td>\n",
       "    </tr>\n",
       "    <tr>\n",
       "      <th>История</th>\n",
       "      <td>340</td>\n",
       "      <td>277</td>\n",
       "      <td>244</td>\n",
       "      <td>231</td>\n",
       "      <td>188</td>\n",
       "      <td>157</td>\n",
       "    </tr>\n",
       "    <tr>\n",
       "      <th>Кино</th>\n",
       "      <td>318</td>\n",
       "      <td>276</td>\n",
       "      <td>268</td>\n",
       "      <td>266</td>\n",
       "      <td>211</td>\n",
       "      <td>166</td>\n",
       "    </tr>\n",
       "    <tr>\n",
       "      <th>Музыка</th>\n",
       "      <td>188</td>\n",
       "      <td>153</td>\n",
       "      <td>142</td>\n",
       "      <td>131</td>\n",
       "      <td>86</td>\n",
       "      <td>50</td>\n",
       "    </tr>\n",
       "    <tr>\n",
       "      <th>Одежда</th>\n",
       "      <td>294</td>\n",
       "      <td>270</td>\n",
       "      <td>249</td>\n",
       "      <td>225</td>\n",
       "      <td>189</td>\n",
       "      <td>152</td>\n",
       "    </tr>\n",
       "    <tr>\n",
       "      <th>Полезные советы</th>\n",
       "      <td>348</td>\n",
       "      <td>298</td>\n",
       "      <td>276</td>\n",
       "      <td>256</td>\n",
       "      <td>215</td>\n",
       "      <td>185</td>\n",
       "    </tr>\n",
       "    <tr>\n",
       "      <th>Политика</th>\n",
       "      <td>248</td>\n",
       "      <td>202</td>\n",
       "      <td>181</td>\n",
       "      <td>167</td>\n",
       "      <td>130</td>\n",
       "      <td>96</td>\n",
       "    </tr>\n",
       "    <tr>\n",
       "      <th>Психология</th>\n",
       "      <td>234</td>\n",
       "      <td>207</td>\n",
       "      <td>200</td>\n",
       "      <td>179</td>\n",
       "      <td>136</td>\n",
       "      <td>99</td>\n",
       "    </tr>\n",
       "    <tr>\n",
       "      <th>Путешествия</th>\n",
       "      <td>337</td>\n",
       "      <td>301</td>\n",
       "      <td>280</td>\n",
       "      <td>257</td>\n",
       "      <td>216</td>\n",
       "      <td>172</td>\n",
       "    </tr>\n",
       "    <tr>\n",
       "      <th>Ремонт</th>\n",
       "      <td>232</td>\n",
       "      <td>194</td>\n",
       "      <td>182</td>\n",
       "      <td>157</td>\n",
       "      <td>114</td>\n",
       "      <td>106</td>\n",
       "    </tr>\n",
       "    <tr>\n",
       "      <th>Россия</th>\n",
       "      <td>364</td>\n",
       "      <td>315</td>\n",
       "      <td>298</td>\n",
       "      <td>279</td>\n",
       "      <td>224</td>\n",
       "      <td>207</td>\n",
       "    </tr>\n",
       "    <tr>\n",
       "      <th>Сад и дача</th>\n",
       "      <td>269</td>\n",
       "      <td>194</td>\n",
       "      <td>177</td>\n",
       "      <td>162</td>\n",
       "      <td>129</td>\n",
       "      <td>105</td>\n",
       "    </tr>\n",
       "    <tr>\n",
       "      <th>Сделай сам</th>\n",
       "      <td>247</td>\n",
       "      <td>194</td>\n",
       "      <td>175</td>\n",
       "      <td>156</td>\n",
       "      <td>115</td>\n",
       "      <td>108</td>\n",
       "    </tr>\n",
       "    <tr>\n",
       "      <th>Семейные отношения</th>\n",
       "      <td>381</td>\n",
       "      <td>337</td>\n",
       "      <td>324</td>\n",
       "      <td>312</td>\n",
       "      <td>257</td>\n",
       "      <td>211</td>\n",
       "    </tr>\n",
       "    <tr>\n",
       "      <th>Семья</th>\n",
       "      <td>317</td>\n",
       "      <td>261</td>\n",
       "      <td>260</td>\n",
       "      <td>234</td>\n",
       "      <td>180</td>\n",
       "      <td>153</td>\n",
       "    </tr>\n",
       "    <tr>\n",
       "      <th>Спорт</th>\n",
       "      <td>222</td>\n",
       "      <td>197</td>\n",
       "      <td>194</td>\n",
       "      <td>181</td>\n",
       "      <td>124</td>\n",
       "      <td>89</td>\n",
       "    </tr>\n",
       "    <tr>\n",
       "      <th>Строительство</th>\n",
       "      <td>192</td>\n",
       "      <td>162</td>\n",
       "      <td>140</td>\n",
       "      <td>120</td>\n",
       "      <td>80</td>\n",
       "      <td>64</td>\n",
       "    </tr>\n",
       "    <tr>\n",
       "      <th>Технологии</th>\n",
       "      <td>177</td>\n",
       "      <td>140</td>\n",
       "      <td>141</td>\n",
       "      <td>137</td>\n",
       "      <td>87</td>\n",
       "      <td>59</td>\n",
       "    </tr>\n",
       "    <tr>\n",
       "      <th>Финансы</th>\n",
       "      <td>172</td>\n",
       "      <td>146</td>\n",
       "      <td>119</td>\n",
       "      <td>112</td>\n",
       "      <td>68</td>\n",
       "      <td>50</td>\n",
       "    </tr>\n",
       "  </tbody>\n",
       "</table>\n",
       "</div>"
      ],
      "text/plain": [
       "age_segment         18-25  26-30  31-35  36-40  41-45  45+\n",
       "source_topic                                              \n",
       "Авто                  223    223    194    172    136  129\n",
       "Деньги                235    185    179    157    123   94\n",
       "Дети                  317    248    279    251    197  167\n",
       "Еда                   253    174    151    148     96   90\n",
       "Здоровье              297    230    225    208    146  137\n",
       "Знаменитости          354    301    304    281    218  192\n",
       "Интерьеры             217    158    146    129     77   82\n",
       "Искусство             280    232    224    197    161  134\n",
       "История               340    277    244    231    188  157\n",
       "Кино                  318    276    268    266    211  166\n",
       "Музыка                188    153    142    131     86   50\n",
       "Одежда                294    270    249    225    189  152\n",
       "Полезные советы       348    298    276    256    215  185\n",
       "Политика              248    202    181    167    130   96\n",
       "Психология            234    207    200    179    136   99\n",
       "Путешествия           337    301    280    257    216  172\n",
       "Ремонт                232    194    182    157    114  106\n",
       "Россия                364    315    298    279    224  207\n",
       "Сад и дача            269    194    177    162    129  105\n",
       "Сделай сам            247    194    175    156    115  108\n",
       "Семейные отношения    381    337    324    312    257  211\n",
       "Семья                 317    261    260    234    180  153\n",
       "Спорт                 222    197    194    181    124   89\n",
       "Строительство         192    162    140    120     80   64\n",
       "Технологии            177    140    141    137     87   59\n",
       "Финансы               172    146    119    112     68   50"
      ]
     },
     "execution_count": 171,
     "metadata": {},
     "output_type": "execute_result"
    }
   ],
   "source": [
    "# Создадим кросс-таблицу для оценки популярности тем карточек с разбивкой по возрасту\n",
    "\n",
    "source_topic_age_segment = pd.crosstab(data['source_topic'], data['age_segment'], margins=False)\n",
    "source_topic_age_segment"
   ]
  },
  {
   "cell_type": "code",
   "execution_count": 172,
   "id": "d8baf23e",
   "metadata": {},
   "outputs": [
    {
     "data": {
      "text/plain": [
       "source_topic\n",
       "Семейные отношения    381\n",
       "Россия                364\n",
       "Знаменитости          354\n",
       "Полезные советы       348\n",
       "История               340\n",
       "Name: 18-25, dtype: int64"
      ]
     },
     "execution_count": 172,
     "metadata": {},
     "output_type": "execute_result"
    }
   ],
   "source": [
    "# Топ-5 тем источников по количеству публикаций (категория \"18-25\")\n",
    "\n",
    "source_topic_age_segment['18-25'].sort_values(ascending=False).head(5)"
   ]
  },
  {
   "cell_type": "code",
   "execution_count": 173,
   "id": "045c31cd",
   "metadata": {},
   "outputs": [
    {
     "data": {
      "text/plain": [
       "source_topic\n",
       "Семейные отношения    337\n",
       "Россия                315\n",
       "Знаменитости          301\n",
       "Путешествия           301\n",
       "Полезные советы       298\n",
       "Name: 26-30, dtype: int64"
      ]
     },
     "execution_count": 173,
     "metadata": {},
     "output_type": "execute_result"
    }
   ],
   "source": [
    "# Топ-5 тем источников по количеству публикаций (категория \"26-30\")\n",
    "\n",
    "source_topic_age_segment['26-30'].sort_values(ascending=False).head(5)"
   ]
  },
  {
   "cell_type": "code",
   "execution_count": 174,
   "id": "34946d85",
   "metadata": {},
   "outputs": [
    {
     "data": {
      "text/plain": [
       "source_topic\n",
       "Семейные отношения    324\n",
       "Знаменитости          304\n",
       "Россия                298\n",
       "Путешествия           280\n",
       "Дети                  279\n",
       "Name: 31-35, dtype: int64"
      ]
     },
     "execution_count": 174,
     "metadata": {},
     "output_type": "execute_result"
    }
   ],
   "source": [
    "# Топ-5 тем источников по количеству публикаций (категория \"31-35\")\n",
    "\n",
    "source_topic_age_segment['31-35'].sort_values(ascending=False).head(5)"
   ]
  },
  {
   "cell_type": "code",
   "execution_count": 175,
   "id": "bf2683ab",
   "metadata": {},
   "outputs": [
    {
     "data": {
      "text/plain": [
       "source_topic\n",
       "Семейные отношения    312\n",
       "Знаменитости          281\n",
       "Россия                279\n",
       "Кино                  266\n",
       "Путешествия           257\n",
       "Name: 36-40, dtype: int64"
      ]
     },
     "execution_count": 175,
     "metadata": {},
     "output_type": "execute_result"
    }
   ],
   "source": [
    "# Топ-5 тем источников по количеству публикаций (категория \"36-40\")\n",
    "\n",
    "source_topic_age_segment['36-40'].sort_values(ascending=False).head(5)"
   ]
  },
  {
   "cell_type": "code",
   "execution_count": 176,
   "id": "0316d092",
   "metadata": {},
   "outputs": [
    {
     "data": {
      "text/plain": [
       "source_topic\n",
       "Семейные отношения    257\n",
       "Россия                224\n",
       "Знаменитости          218\n",
       "Путешествия           216\n",
       "Полезные советы       215\n",
       "Name: 41-45, dtype: int64"
      ]
     },
     "execution_count": 176,
     "metadata": {},
     "output_type": "execute_result"
    }
   ],
   "source": [
    "# Топ-5 тем источников по количеству публикаций (категория \"41-45\")\n",
    "\n",
    "source_topic_age_segment['41-45'].sort_values(ascending=False).head(5)"
   ]
  },
  {
   "cell_type": "code",
   "execution_count": 75,
   "id": "01aaf0ac",
   "metadata": {},
   "outputs": [
    {
     "data": {
      "text/plain": [
       "source_topic\n",
       "Семейные отношения    211\n",
       "Россия                207\n",
       "Знаменитости          192\n",
       "Полезные советы       185\n",
       "Путешествия           172\n",
       "Name: 45+, dtype: int64"
      ]
     },
     "execution_count": 75,
     "metadata": {},
     "output_type": "execute_result"
    }
   ],
   "source": [
    "# Топ-5 тем источников по количеству публикаций (категория \"45+\")\n",
    "\n",
    "source_topic_age_segment['45+'].sort_values(ascending=False).head(5)"
   ]
  },
  {
   "cell_type": "markdown",
   "id": "88f9b55d",
   "metadata": {},
   "source": [
    "<a id=\"conclusion\"> </a>\n",
    "# 3. Общий вывод."
   ]
  },
  {
   "cell_type": "markdown",
   "id": "d4c016a1",
   "metadata": {},
   "source": [
    "**Общая информация.**\n",
    "\n",
    "В имеющимся датасете 6 столбцов и 30745 строк. На этапе предобработки пропущенных значений и явных дубликатов обнаружено не было.\n",
    "\n",
    "Данный датасет содержит в себе данные о карточках статей. Каждую карточку определяют её тема и тема источника. Пользователей системы характеризует возрастная категория.\n",
    "\n",
    "\n",
    "**Исследование времени.**\n",
    "\n",
    "Имеющийся датасет охватывает промежуток времени с 18.28 до 19.00 24 сентября 2019 г. Количество опубликованных записей волнообразно растет на протяжение всего промежутка времени. Максимальные значение - в 18.56 - 18.58. Далее идет спад. Подсет количества просмотров показал другую картину - рост начинается в 18.54, максимальные показали - в 18.57 и 18.58, далее - спад.\n",
    "Из чего мы можем сделать вывод: сообщения публикуются в течение всего изучаемого промежутка времени, но просматриваются больше всего в период с 18.54 до 19.00.\n",
    "\n",
    "**Исследование возратсных категорий.**\n",
    "\n",
    "Все пользователи Яндекс.Дзен разделены на шесть возрастных категорий:\n",
    "- \"18 - 25\",\n",
    "- \"26 - 30\",\n",
    "- \"31 - 35\",\n",
    "- \"36 - 40\",\n",
    "- \"41 - 45\"\n",
    "- и \"45+\".\n",
    "\n",
    "Самая многочисленная группа пользователь в возрастной категории \"18-25\". Меньше всего пользователей в категории \"45+\".\n",
    "\n",
    "**Исследование тем карточкек.**\n",
    "\n",
    "В имеющимся датасете 25 тем карточек. Сгруппировав данные по темам без учета возрастных категорий, мы получили топ-5 самымх популярных тем. Это \"Отношения\", \"Интересные факты\", \"Наука\", \"Подборки\", \"Полезные советы\". Дополнительно сгруппировав пользователей по возрастным категориям, мы выяснили что в топ-5 во всех возратсных категориях входят \"Отношения\", \"Наука\", \"Интересные факты\" и \"Общество\". Категорию от 18 до 45 лет так же публикуют статьи на тема \"Подборки\", а категория \"45+\" - на тему \"Россия\".\n",
    "Сгруппировав данные по количеству просмотров, мы получили схожий топ-5 - \"Наука\", \"Отношения\", \"Интересные факты\", \"Общество\" и \"Подборки\". Вы\n",
    "Сгруппировав пользователей по возрастным категориям, мы выяснили что в топ-5 тем карточек по количеству просмотров вошли одинаковые темы – «Отношения», «Наука», «Интересные факты», «Общество». Категории от 18 до 45 так же интересует тема «Подборки». \n",
    "Категория «18-25» начинает интересоваться темой «Россия». Категория «18-25» чаще публикует сообщения с темой «Подборки», но больше интересуется с темой «Россия». А категория «45+» наоборот: чаще публикует сообщения с темой «Россия», но больше интересуется «Подборками».\n",
    "\n",
    "**Исследование тем источников.**\n",
    "\n",
    "В имеющимся датасете 26 тем источников. Некоторые темы источников имеют схожие название с темами карточек. в топ-5 по количеству опубликаванных записей вошли темы: \"Семейные отношения\", \"Россия\", \"Знаменитости\", \"Полезные советы\" и \"Путешествия\". Сгрупппировав данные по возрастным категориям, мы выяснили, что в топ во всех возрастных категориях вошли темы \"Семейные отношения\", \"Россия\", \"Знаменитости\". Оставшиеся две позиции в разных возрастных группах заняли разные темы:\n",
    "- категория \"18-25\" - \"Полезные советы\" и \"История\",\n",
    "- категории \"26-30\", \"41-45\" и \"45+\" - \"Путешествия\" и \"Полезные советы\",\n",
    "- а категория \"31-35\" - \"Путешествия\" и \"Дети\"."
   ]
  },
  {
   "cell_type": "markdown",
   "id": "ecab5162",
   "metadata": {},
   "source": [
    "<a id=\"tableau\"> </a>\n",
    "# Дашборд по ссылке:\n",
    "\n",
    "<https://public.tableau.com/app/profile/anasatasia3818/viz/ya_p_1/Dashboard1?publish=yes>"
   ]
  },
  {
   "cell_type": "markdown",
   "id": "8430c84a",
   "metadata": {},
   "source": [
    "<a id=\"report\"> </a>\n",
    "\n",
    "# Отчет по ссылке:\n",
    "<https://github.com/ziadove/ya_project_5_dash/blob/800534300e58b3242d11ad40fe4c49a492599655/presentation.pdf>"
   ]
  }
 ],
 "metadata": {
  "kernelspec": {
   "display_name": "Python 3",
   "language": "python",
   "name": "python3"
  },
  "language_info": {
   "codemirror_mode": {
    "name": "ipython",
    "version": 3
   },
   "file_extension": ".py",
   "mimetype": "text/x-python",
   "name": "python",
   "nbconvert_exporter": "python",
   "pygments_lexer": "ipython3",
   "version": "3.8.8"
  }
 },
 "nbformat": 4,
 "nbformat_minor": 5
}
